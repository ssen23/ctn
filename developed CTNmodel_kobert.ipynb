{
 "cells": [
  {
   "cell_type": "markdown",
   "metadata": {},
   "source": [
    " 전처리 및 데이터셋 생성"
   ]
  },
  {
   "cell_type": "code",
   "execution_count": 1,
   "metadata": {},
   "outputs": [
    {
     "data": {
      "application/vnd.jupyter.widget-view+json": {
       "model_id": "141e9070f78c4da893d552072363d346",
       "version_major": 2,
       "version_minor": 0
      },
      "text/plain": [
       "tokenizer_config.json:   0%|          | 0.00/295 [00:00<?, ?B/s]"
      ]
     },
     "metadata": {},
     "output_type": "display_data"
    },
    {
     "data": {
      "application/vnd.jupyter.widget-view+json": {
       "model_id": "adbcb0fcd355497aba0ebb9344dbe7fd",
       "version_major": 2,
       "version_minor": 0
      },
      "text/plain": [
       "tokenizer.json:   0%|          | 0.00/682k [00:00<?, ?B/s]"
      ]
     },
     "metadata": {},
     "output_type": "display_data"
    },
    {
     "data": {
      "application/vnd.jupyter.widget-view+json": {
       "model_id": "287e0bd98e3340758b5648127101ea9a",
       "version_major": 2,
       "version_minor": 0
      },
      "text/plain": [
       "special_tokens_map.json:   0%|          | 0.00/109 [00:00<?, ?B/s]"
      ]
     },
     "metadata": {},
     "output_type": "display_data"
    },
    {
     "data": {
      "application/vnd.jupyter.widget-view+json": {
       "model_id": "0f916657923c46f7a265eef02035b001",
       "version_major": 2,
       "version_minor": 0
      },
      "text/plain": [
       "config.json:   0%|          | 0.00/1.20k [00:00<?, ?B/s]"
      ]
     },
     "metadata": {},
     "output_type": "display_data"
    },
    {
     "name": "stderr",
     "output_type": "stream",
     "text": [
      "You passed along `num_labels=3` with an incompatible id to label map: {'0': 'NEGATIVE', '1': 'POSITIVE'}. The number of labels will be overwritten to 2.\n"
     ]
    },
    {
     "data": {
      "application/vnd.jupyter.widget-view+json": {
       "model_id": "430e1a746662429c971a4952bbcdc8ac",
       "version_major": 2,
       "version_minor": 0
      },
      "text/plain": [
       "pytorch_model.bin:   0%|          | 0.00/496M [00:00<?, ?B/s]"
      ]
     },
     "metadata": {},
     "output_type": "display_data"
    },
    {
     "data": {
      "application/vnd.jupyter.widget-view+json": {
       "model_id": "cf62af4129c144319f6d145e4daa524b",
       "version_major": 2,
       "version_minor": 0
      },
      "text/plain": [
       "model.safetensors:   0%|          | 0.00/496M [00:00<?, ?B/s]"
      ]
     },
     "metadata": {},
     "output_type": "display_data"
    }
   ],
   "source": [
    "import pandas as pd\n",
    "from transformers import PreTrainedTokenizerFast\n",
    "from transformers import BartForConditionalGeneration\n",
    "import torch\n",
    "import re\n",
    "\n",
    "# ✅ 요약 모델 로드 (KoBART)\n",
    "summary_tokenizer = PreTrainedTokenizerFast.from_pretrained(\"digit82/kobart-summarization\")\n",
    "summary_model = BartForConditionalGeneration.from_pretrained(\"digit82/kobart-summarization\")\n",
    "summary_model.eval()\n",
    "\n",
    "# ✅ 본문 슬라이딩 함수\n",
    "def sliding_window(text, window=300, step=150):\n",
    "    words = text.split()\n",
    "    slices = []\n",
    "    for i in range(0, len(words), step):\n",
    "        part = words[i:i+window]\n",
    "        if part:\n",
    "            slices.append(' '.join(part))\n",
    "        if i + window >= len(words):\n",
    "            break\n",
    "    return slices\n",
    "\n",
    "# ✅ 슬라이스 각각 요약\n",
    "def summarize_slices(slices):\n",
    "    summaries = []\n",
    "    for chunk in slices:\n",
    "        inputs = summary_tokenizer(chunk, return_tensors=\"pt\", max_length=512, truncation=True)\n",
    "        with torch.no_grad():\n",
    "            summary_ids = summary_model.generate(\n",
    "                inputs['input_ids'],\n",
    "                max_length=64,\n",
    "                num_beams=4,\n",
    "                early_stopping=True\n",
    "            )\n",
    "        summary = summary_tokenizer.decode(summary_ids[0], skip_special_tokens=True)\n",
    "        summaries.append(summary)\n",
    "    return summaries\n",
    "\n",
    "# ✅ 전체 요약 실행\n",
    "def generate_summary(body_text):\n",
    "    # 토큰 개수 기준으로 길이 판단\n",
    "    tokenized = summary_tokenizer(body_text, return_tensors=\"pt\", truncation=False)\n",
    "    if tokenized['input_ids'].shape[1] <= 512:\n",
    "        return body_text  # 요약 없이 원문 그대로 사용\n",
    "    else:\n",
    "        slices = sliding_window(body_text)\n",
    "        summaries = summarize_slices(slices)\n",
    "        return ' '.join(summaries)\n",
    "        \n",
    "# ✅ 전체 데이터셋 처리 함수\n",
    "def prepare_dataset(csv_path):\n",
    "    df = pd.read_csv(csv_path)\n",
    "\n",
    "    def preprocess_text(text):\n",
    "        text = re.sub(r'\\s+', ' ', text)\n",
    "        return text.strip()\n",
    "\n",
    "    df['title'] = df['title'].apply(preprocess_text)\n",
    "    df['body'] = df['body'].apply(preprocess_text)\n",
    "    df['summary'] = df['body'].apply(generate_summary)\n",
    "\n",
    "    return df\n"
   ]
  },
  {
   "cell_type": "markdown",
   "metadata": {},
   "source": [
    "학습"
   ]
  },
  {
   "cell_type": "code",
   "execution_count": 2,
   "metadata": {},
   "outputs": [
    {
     "data": {
      "application/vnd.jupyter.widget-view+json": {
       "model_id": "0a698e46c5054160a5bdc63fd662a46d",
       "version_major": 2,
       "version_minor": 0
      },
      "text/plain": [
       "tokenizer_config.json:   0%|          | 0.00/263 [00:00<?, ?B/s]"
      ]
     },
     "metadata": {},
     "output_type": "display_data"
    },
    {
     "data": {
      "application/vnd.jupyter.widget-view+json": {
       "model_id": "649632a5f8764ca691e5aa9fbe301dbb",
       "version_major": 2,
       "version_minor": 0
      },
      "text/plain": [
       "vocab.txt:   0%|          | 0.00/77.8k [00:00<?, ?B/s]"
      ]
     },
     "metadata": {},
     "output_type": "display_data"
    },
    {
     "name": "stderr",
     "output_type": "stream",
     "text": [
      "The tokenizer class you load from this checkpoint is not the same type as the class this function is called from. It may result in unexpected tokenization. \n",
      "The tokenizer class you load from this checkpoint is 'KoBertTokenizer'. \n",
      "The class this function is called from is 'BertTokenizer'.\n"
     ]
    },
    {
     "data": {
      "application/vnd.jupyter.widget-view+json": {
       "model_id": "e4d47c19327d4ab3b517fcf90d48b42b",
       "version_major": 2,
       "version_minor": 0
      },
      "text/plain": [
       "config.json:   0%|          | 0.00/426 [00:00<?, ?B/s]"
      ]
     },
     "metadata": {},
     "output_type": "display_data"
    },
    {
     "data": {
      "application/vnd.jupyter.widget-view+json": {
       "model_id": "9117299e3f2546af9bd6becc4c7e2003",
       "version_major": 2,
       "version_minor": 0
      },
      "text/plain": [
       "model.safetensors:   0%|          | 0.00/369M [00:00<?, ?B/s]"
      ]
     },
     "metadata": {},
     "output_type": "display_data"
    },
    {
     "name": "stderr",
     "output_type": "stream",
     "text": [
      "Some weights of BertForSequenceClassification were not initialized from the model checkpoint at monologg/kobert and are newly initialized: ['classifier.bias', 'classifier.weight']\n",
      "You should probably TRAIN this model on a down-stream task to be able to use it for predictions and inference.\n"
     ]
    }
   ],
   "source": [
    "from transformers import BertTokenizer, BertForSequenceClassification\n",
    "from torch.utils.data import DataLoader, Dataset\n",
    "import torch\n",
    "from tqdm import tqdm\n",
    "from sklearn.metrics import accuracy_score, f1_score\n",
    "import pandas as pd\n",
    "# from preprocessing import prepare_dataset\n",
    "\n",
    "device = torch.device(\"cuda\" if torch.cuda.is_available() else \"cpu\")\n",
    "\n",
    "# 1. 데이터 불러오기\n",
    "train_df = prepare_dataset('Kobert_data/train_dataset.csv')\n",
    "val_df = prepare_dataset('Kobert_data/val_dataset.csv')\n",
    "\n",
    "\n",
    "# 2. Dataset 클래스 정의\n",
    "class NewsDataset(Dataset):\n",
    "    def __init__(self, dataframe, tokenizer, max_length=512):\n",
    "        self.data = dataframe\n",
    "        self.tokenizer = tokenizer\n",
    "        self.max_length = max_length\n",
    "\n",
    "    def __len__(self):\n",
    "        return len(self.data)\n",
    "\n",
    "    def __getitem__(self, idx):\n",
    "        title = self.data.iloc[idx]['title']\n",
    "        summary = self.data.iloc[idx]['summary']   # 리스트\n",
    "        label = int(self.data.iloc[idx]['label'])\n",
    "\n",
    "        inputs = self.tokenizer(\n",
    "            title,\n",
    "            summary,\n",
    "            max_length=self.max_length,\n",
    "            padding='max_length',\n",
    "            truncation=True,\n",
    "            return_tensors='pt'\n",
    "        )\n",
    "\n",
    "        return {\n",
    "            'input_ids': inputs['input_ids'].squeeze(),\n",
    "            'attention_mask': inputs['attention_mask'].squeeze(),\n",
    "            'label': torch.tensor(label, dtype=torch.long)\n",
    "        }\n",
    "\n",
    "# 3. 준비\n",
    "tokenizer = BertTokenizer.from_pretrained(\"monologg/kobert\")\n",
    "\n",
    "train_dataset = NewsDataset(train_df, tokenizer)\n",
    "val_dataset = NewsDataset(val_df, tokenizer)\n",
    "\n",
    "train_loader = DataLoader(train_dataset, batch_size=16, shuffle=True)\n",
    "val_loader = DataLoader(val_dataset, batch_size=16)\n",
    "\n",
    "model = BertForSequenceClassification.from_pretrained(\"monologg/kobert\", num_labels=2).to(device)\n",
    "optimizer = torch.optim.AdamW(model.parameters(), lr=2e-5)"
   ]
  },
  {
   "cell_type": "code",
   "execution_count": 3,
   "metadata": {},
   "outputs": [
    {
     "name": "stderr",
     "output_type": "stream",
     "text": [
      "100%|██████████| 471/471 [02:52<00:00,  2.74it/s]\n"
     ]
    },
    {
     "name": "stdout",
     "output_type": "stream",
     "text": [
      "Epoch 1 Loss: 0.6596\n"
     ]
    },
    {
     "name": "stderr",
     "output_type": "stream",
     "text": [
      "100%|██████████| 471/471 [02:52<00:00,  2.73it/s]\n"
     ]
    },
    {
     "name": "stdout",
     "output_type": "stream",
     "text": [
      "Epoch 2 Loss: 0.6012\n"
     ]
    },
    {
     "name": "stderr",
     "output_type": "stream",
     "text": [
      "100%|██████████| 471/471 [02:52<00:00,  2.73it/s]\n"
     ]
    },
    {
     "name": "stdout",
     "output_type": "stream",
     "text": [
      "Epoch 3 Loss: 0.5727\n"
     ]
    },
    {
     "name": "stderr",
     "output_type": "stream",
     "text": [
      "100%|██████████| 471/471 [02:52<00:00,  2.73it/s]\n"
     ]
    },
    {
     "name": "stdout",
     "output_type": "stream",
     "text": [
      "Epoch 4 Loss: 0.5404\n"
     ]
    },
    {
     "name": "stderr",
     "output_type": "stream",
     "text": [
      "100%|██████████| 471/471 [02:52<00:00,  2.73it/s]\n"
     ]
    },
    {
     "name": "stdout",
     "output_type": "stream",
     "text": [
      "Epoch 5 Loss: 0.5074\n"
     ]
    },
    {
     "name": "stderr",
     "output_type": "stream",
     "text": [
      "100%|██████████| 471/471 [02:52<00:00,  2.73it/s]\n"
     ]
    },
    {
     "name": "stdout",
     "output_type": "stream",
     "text": [
      "Epoch 6 Loss: 0.4767\n"
     ]
    },
    {
     "name": "stderr",
     "output_type": "stream",
     "text": [
      "100%|██████████| 471/471 [02:52<00:00,  2.73it/s]"
     ]
    },
    {
     "name": "stdout",
     "output_type": "stream",
     "text": [
      "Epoch 7 Loss: 0.4252\n"
     ]
    },
    {
     "name": "stderr",
     "output_type": "stream",
     "text": [
      "\n"
     ]
    }
   ],
   "source": [
    "\n",
    "# 4. 학습 루프\n",
    "for epoch in range(7):\n",
    "    model.train()\n",
    "    total_loss = 0\n",
    "    for batch in tqdm(train_loader):\n",
    "        input_ids = batch['input_ids'].to(device)\n",
    "        attention_mask = batch['attention_mask'].to(device)\n",
    "        labels = batch['label'].to(device)\n",
    "\n",
    "        optimizer.zero_grad()\n",
    "        outputs = model(input_ids=input_ids, attention_mask=attention_mask, labels=labels)\n",
    "        loss = outputs.loss\n",
    "        total_loss += loss.item()\n",
    "        loss.backward()\n",
    "        optimizer.step()\n",
    "    print(f\"Epoch {epoch+1} Loss: {total_loss/len(train_loader):.4f}\")"
   ]
  },
  {
   "cell_type": "code",
   "execution_count": 5,
   "metadata": {},
   "outputs": [
    {
     "name": "stderr",
     "output_type": "stream",
     "text": [
      "Validation: 100%|██████████| 118/118 [00:15<00:00,  7.76it/s]"
     ]
    },
    {
     "name": "stdout",
     "output_type": "stream",
     "text": [
      "[Validation] Accuracy: 0.8434  Precision: 0.9295  Recall: 0.7242  F1: 0.8141\n"
     ]
    },
    {
     "name": "stderr",
     "output_type": "stream",
     "text": [
      "\n"
     ]
    }
   ],
   "source": [
    "from sklearn.metrics import precision_score, recall_score\n",
    "\n",
    "model.eval()\n",
    "all_preds = []\n",
    "all_labels = []\n",
    "\n",
    "with torch.no_grad():\n",
    "    for batch in tqdm(val_loader, desc=\"Validation\"):\n",
    "        input_ids = batch['input_ids'].to(device)\n",
    "        attention_mask = batch['attention_mask'].to(device)\n",
    "        labels = batch['label'].to(device)\n",
    "\n",
    "        outputs = model(input_ids=input_ids, attention_mask=attention_mask)\n",
    "        logits = outputs.logits\n",
    "        preds = torch.argmax(logits, dim=1)\n",
    "\n",
    "        all_preds.extend(preds.cpu().numpy())\n",
    "        all_labels.extend(labels.cpu().numpy())\n",
    "\n",
    "acc = accuracy_score(all_labels, all_preds)\n",
    "precision = precision_score(all_labels, all_preds, average='binary')\n",
    "recall = recall_score(all_labels, all_preds, average='binary')\n",
    "f1 = f1_score(all_labels, all_preds, average='binary')\n",
    "\n",
    "print(f\"[Validation] Accuracy: {acc:.4f}  Precision: {precision:.4f}  Recall: {recall:.4f}  F1: {f1:.4f}\")\n"
   ]
  },
  {
   "cell_type": "code",
   "execution_count": 6,
   "metadata": {},
   "outputs": [
    {
     "data": {
      "text/plain": [
       "('./kmodel1/tokenizer_config.json',\n",
       " './kmodel1/special_tokens_map.json',\n",
       " './kmodel1/vocab.txt',\n",
       " './kmodel1/added_tokens.json')"
      ]
     },
     "execution_count": 6,
     "metadata": {},
     "output_type": "execute_result"
    }
   ],
   "source": [
    "# 5. 저장\n",
    "model.save_pretrained(\"./kmodel1\")\n",
    "tokenizer.save_pretrained(\"./kmodel1\")\n",
    "# 모델 저장\n"
   ]
  },
  {
   "cell_type": "code",
   "execution_count": 8,
   "metadata": {},
   "outputs": [
    {
     "data": {
      "image/png": "[encoded data removed]",
      "text/plain": [
       "<Figure size 500x400 with 2 Axes>"
      ]
     },
     "metadata": {},
     "output_type": "display_data"
    }
   ],
   "source": [
    "import matplotlib.pyplot as plt\n",
    "import seaborn as sns\n",
    "from sklearn.metrics import confusion_matrix\n",
    "\n",
    "# 1. 혼동 행렬 계산\n",
    "cm = confusion_matrix(all_labels, all_preds)\n",
    "\n",
    "# 2. 시각화\n",
    "plt.figure(figsize=(5, 4))\n",
    "sns.heatmap(cm, annot=True, fmt='d', cmap='Blues', xticklabels=[\"Negative\", \"Positive\"], yticklabels=[\"Negative\", \"Positive\"])\n",
    "plt.xlabel(\"Predicted Label\")\n",
    "plt.ylabel(\"True Label\")\n",
    "plt.title(\"Confusion Matrix\")\n",
    "plt.show()\n"
   ]
  },
  {
   "cell_type": "code",
   "execution_count": 9,
   "metadata": {},
   "outputs": [
    {
     "name": "stdout",
     "output_type": "stream",
     "text": [
      "Accuracy:  0.8434\n",
      "Precision: 0.9295\n",
      "Recall:    0.7242\n",
      "F1 Score:  0.8141\n"
     ]
    }
   ],
   "source": [
    "from sklearn.metrics import accuracy_score, precision_score, recall_score, f1_score\n",
    "\n",
    "acc = accuracy_score(all_labels, all_preds)\n",
    "precision = precision_score(all_labels, all_preds)\n",
    "recall = recall_score(all_labels, all_preds)\n",
    "f1 = f1_score(all_labels, all_preds)\n",
    "\n",
    "print(f\"Accuracy:  {acc:.4f}\")\n",
    "print(f\"Precision: {precision:.4f}\")\n",
    "print(f\"Recall:    {recall:.4f}\")\n",
    "print(f\"F1 Score:  {f1:.4f}\")"
   ]
  },
  {
   "cell_type": "code",
   "execution_count": 10,
   "metadata": {},
   "outputs": [
    {
     "name": "stdout",
     "output_type": "stream",
     "text": [
      "              precision    recall  f1-score   support\n",
      "\n",
      "    Negative       0.79      0.95      0.86       992\n",
      "    Positive       0.93      0.72      0.81       892\n",
      "\n",
      "    accuracy                           0.84      1884\n",
      "   macro avg       0.86      0.84      0.84      1884\n",
      "weighted avg       0.86      0.84      0.84      1884\n",
      "\n"
     ]
    }
   ],
   "source": [
    "from sklearn.metrics import classification_report\n",
    "\n",
    "print(classification_report(all_labels, all_preds, target_names=[\"Negative\", \"Positive\"]))"
   ]
  },
  {
   "cell_type": "markdown",
   "metadata": {},
   "source": [
    "모델의 정확도를 더 높이기 위한 추가 학습(fine-tuning)"
   ]
  },
  {
   "cell_type": "code",
   "execution_count": 4,
   "metadata": {},
   "outputs": [
    {
     "name": "stdout",
     "output_type": "stream",
     "text": [
      "   Unnamed: 0                                     title  \\\n",
      "0        1408                      민주당, 곧바로 조기 대선 체제 전환   \n",
      "1         680                                   상인들의 고충   \n",
      "2        1565  [자막뉴스] 단체방에서 오고간 '날 선 발언'...계파 갈등으로 분열하나   \n",
      "3        2265               [포토] 개헌 관련 긴급 담화하는 우원식 국회의장   \n",
      "4        2110   우원식 개헌 동시 투표 주장에 민주 친명 “내란종식 우선” 반발(종합)   \n",
      "\n",
      "                                                body reporter  \\\n",
      "0  [앵커]\\n더불어민주당은 그동안 물밑에서 대선 실무 작업을 진행을 해 왔습니다.\\n...   정연주 기자   \n",
      "1  (서울=연합뉴스) 임화영 기자 = 윤석열 대통령 탄핵 심판 선고일을 이틀 앞둔 2일...   임화영 기자   \n",
      "2  윤 전 대통령 파면 직후 의원총회에서 신임을 사실상 재확인한 '쌍권' 지도부, 두 ...      NaN   \n",
      "3  우원식 국회의장이 6일 국회 사랑재에서 개헌관련 긴급 담화를 하고 있다.2025.4...   김호영 기자   \n",
      "4  우원식 국회의장이 6일 긴급 기자회견에서 개헌 국민투표를 대통령 선거와 동시에 진행...   김태경 기자   \n",
      "\n",
      "                                                 URL media  공감1  공감2  공감3  \\\n",
      "0  https://n.news.naver.com/mnews/article/449/000...   채널A    2    0    0   \n",
      "1  https://n.news.naver.com/mnews/article/001/001...  연합뉴스    0    0    0   \n",
      "2  https://n.news.naver.com/mnews/article/052/000...   YTN    1    0    0   \n",
      "3  https://n.news.naver.com/mnews/article/009/000...  매일경제    1    0    0   \n",
      "4  https://n.news.naver.com/mnews/article/658/000...  국제신문    0    0    0   \n",
      "\n",
      "   공감4  공감5  total  label_plus  \\\n",
      "0    0    0      2           0   \n",
      "1    0    0      0           1   \n",
      "2    0    0      1           1   \n",
      "3    0    0      1           0   \n",
      "4    0    0      0           0   \n",
      "\n",
      "                                              coment  \n",
      "0                                                NaN  \n",
      "1  제목에서는 상인들이 겪는 **‘고충’**에 초점을 맞추고 있지만, 본문 내용에는 상...  \n",
      "2  제목은 ‘단체방 발언’에 집중된 인상을 줌\\n\\n제목은 마치 핵심 이슈가 ‘단체방에...  \n",
      "3                                                NaN  \n",
      "4                                                NaN  \n"
     ]
    }
   ],
   "source": [
    "import pandas as pd\n",
    "\n",
    "# 엑셀 파일 읽기\n",
    "df_extra = pd.read_excel('/teamspace/studios/this_studio/random_30개_김대중리뷰.xlsx')\n",
    "\n",
    "# 내용 확인\n",
    "print(df_extra.head())"
   ]
  },
  {
   "cell_type": "code",
   "execution_count": null,
   "metadata": {},
   "outputs": [],
   "source": []
  }
 ],
 "metadata": {
  "language_info": {
   "name": "python"
  }
 },
 "nbformat": 4,
 "nbformat_minor": 2
}
